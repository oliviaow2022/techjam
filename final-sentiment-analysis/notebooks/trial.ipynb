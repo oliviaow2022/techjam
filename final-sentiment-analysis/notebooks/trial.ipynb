{
 "cells": [
  {
   "cell_type": "markdown",
   "metadata": {},
   "source": [
    "# trying different zero shot methods and different classification methods afterwards"
   ]
  },
  {
   "cell_type": "markdown",
   "metadata": {},
   "source": [
    "2. Improving sentiment analysis \n",
    "  - add various zero shot methods + various after model (logistic regression, SVM etc) \n",
    "  - create a service with the above for easier integration with existing solution \n",
    "  - develop model performance visualisation \n",
    "    - design in figma\n",
    "    - implement the design \n",
    "  - create a model download page \n",
    "     - create in figma \n",
    "     - implement the design "
   ]
  },
  {
   "cell_type": "code",
   "execution_count": null,
   "metadata": {},
   "outputs": [],
   "source": [
    "import pandas as pd\n",
    "from transformers import pipeline\n",
    "\n",
    "def sentiment_analysis(df, text_column, model_name):\n",
    "    classifier = pipeline(\"zero-shot-classification\", model=model_name)\n",
    "    labels = [\"positive\", \"neutral\", \"negative\"]\n",
    "\n",
    "    def classify_text(text):\n",
    "        if pd.isna(text):\n",
    "            return {\"labels\": [None], \"scores\": [None]}\n",
    "        return classifier(text, labels)\n",
    "\n",
    "    results = df[text_column].apply(classify_text)\n",
    "    df['predicted_label'] = results.apply(lambda x: x['labels'][0])\n",
    "    df['scores'] = results.apply(lambda x: x['scores'][0])\n",
    "\n",
    "    return df\n",
    "\n",
    "df = pd.DataFrame({\n",
    "    'Review Text': [\"I love the new design of your website!\", \"The service was okay, nothing special.\", \"I am not happy with the product quality.\", None]\n",
    "})\n",
    "\n",
    "# DeBERTa\n",
    "df_deberta = sentiment_analysis(df, 'Review Text', 'microsoft/deberta-large-mnli')\n",
    "print(\"Results using DeBERTa:\")\n",
    "print(df_deberta)\n",
    "\n",
    "# BART\n",
    "df_bart = sentiment_analysis(df, 'Review Text', 'facebook/bart-large-mnli')\n",
    "print(\"\\nResults using BART:\")\n",
    "print(df_bart)\n",
    "\n",
    "# Ernie\n",
    "df_xlnet = sentiment_analysis(df, 'Review Text', 'MoritzLaurer/ernie-m-large-mnli-xnli')\n",
    "print(\"\\nResults using XLNet:\")\n",
    "print(df_xlnet)"
   ]
  }
 ],
 "metadata": {
  "kernelspec": {
   "display_name": "base",
   "language": "python",
   "name": "python3"
  },
  "language_info": {
   "codemirror_mode": {
    "name": "ipython",
    "version": 3
   },
   "file_extension": ".py",
   "mimetype": "text/x-python",
   "name": "python",
   "nbconvert_exporter": "python",
   "pygments_lexer": "ipython3",
   "version": "3.11.8"
  }
 },
 "nbformat": 4,
 "nbformat_minor": 2
}
