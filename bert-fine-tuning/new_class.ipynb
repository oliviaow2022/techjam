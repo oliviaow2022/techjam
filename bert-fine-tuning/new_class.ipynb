{
 "cells": [
  {
   "cell_type": "code",
   "execution_count": 14,
   "metadata": {},
   "outputs": [
    {
     "name": "stdout",
     "output_type": "stream",
     "text": [
      "Input text: This movie was an absolute delight from start to finish. The storyline was captivating, and the characters were incredibly well-developed. The acting was superb, especially by the lead actor, who delivered a performance that was both powerful and nuanced. The cinematography was stunning, with each scene beautifully shot, capturing the essence of the story perfectly. The soundtrack was also a standout, adding an extra layer of emotion to the already poignant narrative. This film is a testament to the power of storytelling and is a must-see for anyone who appreciates great cinema. Highly recommend!\n",
      "Predicted sentiment: Positive\n",
      "Confidence: 1.00\n"
     ]
    }
   ],
   "source": [
    "from transformers import BertForSequenceClassification, BertTokenizer\n",
    "import torch\n",
    "\n",
    "model = BertForSequenceClassification.from_pretrained(\"sr1ya/elmo-BERTjam-classifier\")\n",
    "tokenizer = BertTokenizer.from_pretrained(\"sr1ya/elmo-BERT-jam-tokeniser\")\n",
    "\n",
    "text = \"This movie was an absolute delight from start to finish. The storyline was captivating, and the characters were incredibly well-developed. The acting was superb, especially by the lead actor, who delivered a performance that was both powerful and nuanced. The cinematography was stunning, with each scene beautifully shot, capturing the essence of the story perfectly. The soundtrack was also a standout, adding an extra layer of emotion to the already poignant narrative. This film is a testament to the power of storytelling and is a must-see for anyone who appreciates great cinema. Highly recommend!\"\n",
    "\n",
    "inputs = tokenizer(text, return_tensors=\"pt\", truncation=True, padding=True, max_length=512)\n",
    "\n",
    "with torch.no_grad():\n",
    "    outputs = model(**inputs)\n",
    "    predictions = torch.nn.functional.softmax(outputs.logits, dim=-1)\n",
    "\n",
    "predicted_class = torch.argmax(predictions).item()\n",
    "predicted_prob = predictions[0, predicted_class].item()\n",
    "\n",
    "class_labels = [\"Negative\", \"Positive\"]\n",
    "predicted_label = class_labels[predicted_class]\n",
    "\n",
    "print(f\"Input text: {text}\")\n",
    "print(f\"Predicted sentiment: {predicted_label}\")\n",
    "print(f\"Confidence: {predicted_prob:.2f}\")"
   ]
  },
  {
   "cell_type": "code",
   "execution_count": null,
   "metadata": {},
   "outputs": [],
   "source": []
  }
 ],
 "metadata": {
  "kernelspec": {
   "display_name": "base",
   "language": "python",
   "name": "python3"
  },
  "language_info": {
   "codemirror_mode": {
    "name": "ipython",
    "version": 3
   },
   "file_extension": ".py",
   "mimetype": "text/x-python",
   "name": "python",
   "nbconvert_exporter": "python",
   "pygments_lexer": "ipython3",
   "version": "3.11.8"
  }
 },
 "nbformat": 4,
 "nbformat_minor": 2
}
